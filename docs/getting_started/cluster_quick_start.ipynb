{
 "cells": [
  {
   "cell_type": "markdown",
   "id": "8a441483-58cb-4b9d-a54d-68a87625090e",
   "metadata": {},
   "source": [
    "# Getting Started: Running on a Remote Cluster"
   ]
  },
  {
   "cell_type": "markdown",
   "id": "82caed4b-5991-4fe7-9494-14e10cbb52c1",
   "metadata": {},
   "source": [
    "In the previous example, we showed how to set up a local Runhouse server, and how to send and run a custom Python function on it. This tutorial is an extension that demonstrates how to run arbitrary Python code on a remote cluster. \n",
    "\n",
    "Note: To run this tutorial from scratch, you will need a remote cluster, or have provider credentials set up to launch a cluster."
   ]
  },
  {
   "cell_type": "markdown",
   "id": "5a0037d7-2222-47af-9c7f-1e17d2f9ff2a",
   "metadata": {},
   "source": [
    "### Cluster Setup"
   ]
  },
  {
   "cell_type": "code",
   "execution_count": null,
   "id": "85045415-8565-45c7-8864-b256127ab44f",
   "metadata": {},
   "outputs": [],
   "source": [
    "!pip install \"runhouse[aws]\""
   ]
  },
  {
   "cell_type": "code",
   "execution_count": null,
   "id": "33ed27e4-3a3b-4529-8278-4c4bbb2e2bf1",
   "metadata": {},
   "outputs": [],
   "source": [
    "### BYO Creds\n",
    "\n",
    "### SkyPilot"
   ]
  },
  {
   "cell_type": "code",
   "execution_count": null,
   "id": "13605841-da98-4c2c-8485-a4a7b0484f2c",
   "metadata": {},
   "outputs": [],
   "source": [
    "# cluster.status()"
   ]
  },
  {
   "cell_type": "markdown",
   "id": "53993996-7ce6-4218-bb19-6d6f36016d85",
   "metadata": {},
   "source": [
    "### Function Setup\n",
    "\n",
    "We'll reuse the function from the previous example, a `get_pid` function that optionally takes in a parameter, and returns the process ID plus the parameter value."
   ]
  },
  {
   "cell_type": "code",
   "execution_count": null,
   "id": "5e4028e1-a6a1-4f8c-87d4-91609a723d05",
   "metadata": {},
   "outputs": [],
   "source": [
    "def get_pid(a=0):\n",
    "    import os\n",
    "    return os.getpid() + int(a)"
   ]
  },
  {
   "cell_type": "markdown",
   "id": "f3f02c24-bfec-4a92-a62e-1dddfd91e6db",
   "metadata": {},
   "source": [
    "### Remote Function"
   ]
  },
  {
   "cell_type": "code",
   "execution_count": null,
   "id": "21cb5d9e-d52a-438c-af92-a3384de91417",
   "metadata": {},
   "outputs": [],
   "source": [
    "cluster_fn = rh.function(get_pid).to(cluster)"
   ]
  },
  {
   "cell_type": "code",
   "execution_count": null,
   "id": "b944956b-cfd5-4d02-b3fd-e3fae1a10530",
   "metadata": {},
   "outputs": [],
   "source": [
    "cluster_fn()"
   ]
  },
  {
   "cell_type": "code",
   "execution_count": null,
   "id": "eb44d435-aa1b-4a29-a563-bbdaf2cc75b4",
   "metadata": {},
   "outputs": [],
   "source": []
  },
  {
   "cell_type": "markdown",
   "id": "0d165d68-0fbc-4685-9ba2-30fb7b9bd61e",
   "metadata": {},
   "source": [
    "blah blah this is the basics. runhouse supports lots more customization and support for this, from setting up environment (pacakges and variables), secrets, data. take a look at blah for more information."
   ]
  }
 ],
 "metadata": {
  "kernelspec": {
   "display_name": "Python 3 (ipykernel)",
   "language": "python",
   "name": "python3"
  },
  "language_info": {
   "codemirror_mode": {
    "name": "ipython",
    "version": 3
   },
   "file_extension": ".py",
   "mimetype": "text/x-python",
   "name": "python",
   "nbconvert_exporter": "python",
   "pygments_lexer": "ipython3",
   "version": "3.9.18"
  }
 },
 "nbformat": 4,
 "nbformat_minor": 5
}
